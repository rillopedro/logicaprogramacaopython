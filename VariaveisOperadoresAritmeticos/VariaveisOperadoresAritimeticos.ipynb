{
  "nbformat": 4,
  "nbformat_minor": 0,
  "metadata": {
    "colab": {
      "provenance": [],
      "authorship_tag": "ABX9TyM3qySBrEzxYEvCVwcJRx0y",
      "include_colab_link": true
    },
    "kernelspec": {
      "name": "python3",
      "display_name": "Python 3"
    },
    "language_info": {
      "name": "python"
    }
  },
  "cells": [
    {
      "cell_type": "markdown",
      "metadata": {
        "id": "view-in-github",
        "colab_type": "text"
      },
      "source": [
        "<a href=\"https://colab.research.google.com/github/rillopedro/logicaprogramacaopython/blob/main/VariaveisOperadoresAritmeticos/VariaveisOperadoresAritimeticos.ipynb\" target=\"_parent\"><img src=\"https://colab.research.google.com/assets/colab-badge.svg\" alt=\"Open In Colab\"/></a>"
      ]
    },
    {
      "cell_type": "markdown",
      "source": [
        "# Criando Variaveis"
      ],
      "metadata": {
        "id": "YrN0_jkxBe7m"
      }
    },
    {
      "cell_type": "code",
      "execution_count": null,
      "metadata": {
        "id": "abOFukwOBAGo",
        "colab": {
          "base_uri": "https://localhost:8080/"
        },
        "outputId": "9a4f77c5-4221-4feb-8821-b73f9a464bad"
      },
      "outputs": [
        {
          "output_type": "stream",
          "name": "stdout",
          "text": [
            "A área do quadrado é:  25\n"
          ]
        }
      ],
      "source": [
        "#entrada\n",
        "l =\n",
        "#processamento\n",
        "a = l*l\n",
        "#saída\n",
        "print(\"A área do quadrado é: \", a)"
      ]
    },
    {
      "cell_type": "markdown",
      "source": [
        "#Area do retangulo"
      ],
      "metadata": {
        "id": "krr_Fhc-J5tQ"
      }
    },
    {
      "cell_type": "code",
      "source": [
        "#entrada\n",
        "base = float (input(\"digite a base do retangulo: \"))\n",
        "alt = float (input(\"digite a altura do retangulo: \"))\n",
        "\n",
        "#processamento\n",
        "area = base*alt\n",
        "\n",
        "#saida\n",
        "print(\"a area do retangulo é: \", area)"
      ],
      "metadata": {
        "colab": {
          "base_uri": "https://localhost:8080/"
        },
        "id": "gR2BERHQKBeh",
        "outputId": "a1179a73-e50b-4104-d091-2faf884f080c"
      },
      "execution_count": null,
      "outputs": [
        {
          "output_type": "stream",
          "name": "stdout",
          "text": [
            "digite a base do retangulo: 5 \n",
            "digite a altura do retangulo: 10\n",
            "a area do retangulo é:  50.0\n"
          ]
        }
      ]
    },
    {
      "cell_type": "markdown",
      "source": [
        "#Area do triangulo"
      ],
      "metadata": {
        "id": "Qa1zVR6WL1_Q"
      }
    },
    {
      "cell_type": "code",
      "source": [
        "#entrada\n",
        "base = float(input(\"digite a base do triangulo: \"))\n",
        "alt = float(input(\"digite a altura do triangulo: \"))\n",
        "\n",
        "#processamento\n",
        "areat = base*alt/2\n",
        "\n",
        "#saida\n",
        "print(\"a area do triangulo é: \", areat)"
      ],
      "metadata": {
        "colab": {
          "base_uri": "https://localhost:8080/"
        },
        "id": "npuS56t5L595",
        "outputId": "c6ca41d7-9344-47f6-ec47-a9d83b968b23"
      },
      "execution_count": null,
      "outputs": [
        {
          "output_type": "stream",
          "name": "stdout",
          "text": [
            "digite a base do triangulo: 12\n",
            "digite a altura do triangulo: 12\n",
            "a area do triangulo é:  72.0\n"
          ]
        }
      ]
    },
    {
      "cell_type": "markdown",
      "source": [
        "#Area do trapezio\n"
      ],
      "metadata": {
        "id": "vnwmMsyQM4II"
      }
    },
    {
      "cell_type": "code",
      "source": [
        "#entrada\n",
        "base1  = float (input(\"digite a base do trapezio: \"))\n",
        "base2 = float (input(\"digite a base do trapezio: \"))\n",
        "alt = float (input(\"digite a altura do trapezio: \"))\n",
        "\n",
        "#processamento\n",
        "area = base1+base2*alt/2\n",
        "\n",
        "#saida\n",
        "print(\"a area do trapezio é: \", area)"
      ],
      "metadata": {
        "colab": {
          "base_uri": "https://localhost:8080/"
        },
        "id": "onIUXjCMNGc4",
        "outputId": "01b3cfd8-f295-4a4f-816a-c37834b12849"
      },
      "execution_count": null,
      "outputs": [
        {
          "output_type": "stream",
          "name": "stdout",
          "text": [
            "digite a base do trapezio: 45\n",
            "digite a base do trapezio: 5\n",
            "digite a altura do trapezio: 3\n",
            "a area do trapezio é:  52.5\n"
          ]
        }
      ]
    },
    {
      "cell_type": "markdown",
      "source": [
        "##quantos azulejos  eu preciso para completar a parede\n",
        "\n"
      ],
      "metadata": {
        "id": "FPudXOwIQ9Lu"
      }
    },
    {
      "cell_type": "code",
      "source": [
        "#entrada\n",
        "\n",
        "ha = float (input(\"qual a altura em cm do azulejo: \"))\n",
        "ba = float (input(\"qual a base em cm do azulejo: \"))\n",
        "hp = float (input(\"qual a altura  em metros da parede: \"))\n",
        "bp = float (input(\"qual a base em metros da parede: \"))\n",
        "\n",
        "#PROCESSAMENTO\n",
        "\n",
        "aaz = ha*ba\n",
        "ap = hp*bp\n",
        "aazm = aaz/100\n",
        "azulejosnecessarios = aazm/ap\n",
        "\n",
        "#saida\n",
        "print(\"a quantidade de azulejos que cabe na parede é: \", azulejosnecessarios)\n"
      ],
      "metadata": {
        "colab": {
          "base_uri": "https://localhost:8080/"
        },
        "id": "4W-S6_TtRMHW",
        "outputId": "5d1ec09a-0ff0-47e4-bf11-e10844be38f2"
      },
      "execution_count": null,
      "outputs": [
        {
          "name": "stdout",
          "output_type": "stream",
          "text": [
            "qual a altura em cm do azulejo: 2\n",
            "qual a base em cm do azulejo: 2\n"
          ]
        }
      ]
    }
  ]
}
{
  "nbformat": 4,
  "nbformat_minor": 0,
  "metadata": {
    "colab": {
      "provenance": [],
      "authorship_tag": "ABX9TyM/LQ+Md7cMUlquUHBTH4cb",
      "include_colab_link": true
    },
    "kernelspec": {
      "name": "python3",
      "display_name": "Python 3"
    },
    "language_info": {
      "name": "python"
    }
  },
  "cells": [
    {
      "cell_type": "markdown",
      "metadata": {
        "id": "view-in-github",
        "colab_type": "text"
      },
      "source": [
        "<a href=\"https://colab.research.google.com/github/rillopedro/logicaprogramacaopython/blob/main/Exerc%C3%ADcios.ipynb\" target=\"_parent\"><img src=\"https://colab.research.google.com/assets/colab-badge.svg\" alt=\"Open In Colab\"/></a>"
      ]
    },
    {
      "cell_type": "markdown",
      "source": [
        "##Cotação do Dólar 1\n",
        "\n"
      ],
      "metadata": {
        "id": "orflFkWnWWTQ"
      }
    },
    {
      "cell_type": "code",
      "source": [
        "#entrada\n",
        "CD = float (input(\"Digite a cotação do dolár atual: \"))\n",
        "RD = float (input(\"Digite o valor a ser convertido em real para dólar: \"))\n",
        "#processo\n",
        "conversao = RD/CD\n",
        "#saída\n",
        "print(\"Aqui está a conversão do real para o dólar:\" , conversao)"
      ],
      "metadata": {
        "colab": {
          "base_uri": "https://localhost:8080/"
        },
        "id": "Ey7_kg2jb63g",
        "outputId": "7d111544-24e5-4178-a0d7-7adfe1df31a6"
      },
      "execution_count": null,
      "outputs": [
        {
          "output_type": "stream",
          "name": "stdout",
          "text": [
            "Digite a cotação do dolár atual: 5\n",
            "Digite o valor a ser convertido em real para dólar: 10\n",
            "Aqui está a conversão do real para o dólar: 2.0\n"
          ]
        }
      ]
    },
    {
      "cell_type": "markdown",
      "source": [
        "##Calcule o quadrado de cada número 2\n"
      ],
      "metadata": {
        "id": "bU47Hek6SWbk"
      }
    },
    {
      "cell_type": "code",
      "source": [
        "#entrada\n",
        "\n",
        "N1 = float (input(\"digite o primeiro número a ser calculado: \"))\n",
        "N2 = float (input(\"digite o segundo número a ser calculado: \"))\n",
        "N3 = float (input(\"digite o terceiro número a ser calculado: \"))\n",
        "N4 = float (input(\"digite o quarto número a ser calculado: \"))\n",
        "\n",
        "#processo\n",
        "\n",
        "NQ1 = N1*N1\n",
        "NQ2 = N2*N2\n",
        "NQ3 = N3*N3\n",
        "NQ4 = N4*N4\n",
        "QT = NQ1+NQ2+NQ3+NQ4\n",
        "\n",
        "#saída\n",
        "print(\"o resultado da soma dos números é: \" , QT)\n"
      ],
      "metadata": {
        "colab": {
          "base_uri": "https://localhost:8080/"
        },
        "id": "YZnE7z9GU2gT",
        "outputId": "bf70c6d0-3ea1-43ff-de65-d2405451e11e"
      },
      "execution_count": null,
      "outputs": [
        {
          "output_type": "stream",
          "name": "stdout",
          "text": [
            "digite o primeiro número a ser calculado: 2\n",
            "digite o segundo número a ser calculado: 4\n",
            "digite o terceiro número a ser calculado: 5\n",
            "digite o quarto número a ser calculado: 6\n",
            "o resultado da soma dos números é:  81.0\n"
          ]
        }
      ]
    },
    {
      "cell_type": "markdown",
      "source": [
        "##Comissão 3\n",
        "\n",
        "\n",
        "\n",
        "\n"
      ],
      "metadata": {
        "id": "_oChDY2bPu_V"
      }
    },
    {
      "cell_type": "code",
      "source": [
        "#entrada\n",
        "\n",
        "PU = float(input(\"digite o preço da peça vendida: \"))\n",
        "QV = float(input(\"digite a quantidade de peças vendida: \"))\n",
        "\n",
        "#processamento\n",
        "\n",
        "VT = PU*QV\n",
        "C  = VT*5/100\n",
        "\n",
        "\n",
        "#saída\n",
        "print(\"o valor vendido foi : \" , VT)\n",
        "print(\"e a comissão foi: \" , C)"
      ],
      "metadata": {
        "colab": {
          "base_uri": "https://localhost:8080/"
        },
        "id": "kfWSKziHQJgC",
        "outputId": "89123a34-d64c-476b-a09f-10bb9bc631bb"
      },
      "execution_count": null,
      "outputs": [
        {
          "output_type": "stream",
          "name": "stdout",
          "text": [
            "digite o preço da peça vendida: 2.5\n",
            "digite a quantidade de peças vendida: 200\n",
            "o valor vendido foi :  500.0\n",
            "e a comissão foi:  25.0\n"
          ]
        }
      ]
    },
    {
      "cell_type": "markdown",
      "source": [
        "##Custo de um carro novo 4"
      ],
      "metadata": {
        "id": "fOmmTMOqXHYS"
      }
    },
    {
      "cell_type": "code",
      "source": [
        "#entrada\n",
        "CF = float(input(\"digite o preço de fabíca do seu carro>: \"))\n",
        "\n",
        "#processamento\n",
        "I = CF*0.45+CF\n",
        "T = I*0.28\n",
        "PC = I+T\n",
        "\n",
        "#saída\n",
        "print(\"esse é o preço total do seu carro: \" , PC)\n"
      ],
      "metadata": {
        "colab": {
          "base_uri": "https://localhost:8080/"
        },
        "id": "X0COTCYDXObr",
        "outputId": "cccaa80e-45c4-443f-daa7-a27a9c8985d9"
      },
      "execution_count": 9,
      "outputs": [
        {
          "output_type": "stream",
          "name": "stdout",
          "text": [
            "digite o preço de fabíca do seu carro>: 10000\n",
            "esse é o preço total do seu carro:  18560.0\n"
          ]
        }
      ]
    },
    {
      "cell_type": "markdown",
      "source": [
        "##Converte minutos e horas em segundos 5"
      ],
      "metadata": {
        "id": "XeOeF3I2a9_A"
      }
    },
    {
      "cell_type": "code",
      "source": [
        "#entrada\n",
        "H = float(input(\"digite as horas a serem cosnvertidas: \"))\n",
        "M = float(input(\"digite os minutos a serem cosnvertidos: \"))\n",
        "\n",
        "#processamento\n",
        "Ms = M/60\n",
        "Hc = H+Ms\n",
        "\n",
        "#saída\n",
        "print(\"aqui está as horas convertidas: \" , Hc)"
      ],
      "metadata": {
        "colab": {
          "base_uri": "https://localhost:8080/"
        },
        "id": "2QyKunSScPLM",
        "outputId": "9492f77e-cd35-4df4-b92b-564a1272c60e"
      },
      "execution_count": 2,
      "outputs": [
        {
          "output_type": "stream",
          "name": "stdout",
          "text": [
            "digite as horas a serem cosnvertidas: 7\n",
            "digite os minutos a serem cosnvertidos: 20\n",
            "aqui está as horas convertidas:  7.333333333333333\n"
          ]
        }
      ]
    },
    {
      "cell_type": "markdown",
      "source": [
        "##Horas extras 6"
      ],
      "metadata": {
        "id": "c9Ie4Rkvdpf0"
      }
    },
    {
      "cell_type": "code",
      "source": [
        "#entrada\n",
        "HE = float(input(\"digite quantas horas extras você fez: \"))\n",
        "MT = float(input(\"digite quantos minutos extras você fez: \"))\n",
        "RH = float(input(\"digite quanto vc ganha por hora: \"))\n",
        "\n",
        "#processamento\n",
        "MS = MT/60\n",
        "TT = HE+MS\n",
        "RD = TT*RH\n",
        "res1 = RD*0.7\n",
        "res2 = res1+RD\n",
        "\n",
        "#saída\n",
        "print(\"esse é valor das suas horas extras: \" , res2)"
      ],
      "metadata": {
        "colab": {
          "base_uri": "https://localhost:8080/"
        },
        "id": "Hdih159EdyqQ",
        "outputId": "faacc7ff-8362-4fb7-8cc4-db837ab769a1"
      },
      "execution_count": 3,
      "outputs": [
        {
          "output_type": "stream",
          "name": "stdout",
          "text": [
            "digite quantas horas extras você fez: 10\n",
            "digite quantos minutos extras você fez: 30\n",
            "digite quanto vc ganha por hora: 25\n",
            "esse é valor das suas horas extras:  446.25\n"
          ]
        }
      ]
    },
    {
      "cell_type": "markdown",
      "source": [
        "##Gasolina 7"
      ],
      "metadata": {
        "id": "wUSk6RV0gzUI"
      }
    },
    {
      "cell_type": "code",
      "source": [
        "#entrada\n",
        "KMP = float(input(\"digite quantos KM você vai percorrer: \"))\n",
        "GKM = float(input(\"quantos litros seu carro consome por Km: \"))\n",
        "PG = float(input(\"qual o preço da gasolina: \"))\n",
        "\n",
        "#processamento\n",
        "tg = 1\n",
        "\n",
        "#saída\n",
        "print(\"aqui esta o total \" , tg)"
      ],
      "metadata": {
        "id": "yhacmyOKg3J4",
        "colab": {
          "base_uri": "https://localhost:8080/"
        },
        "outputId": "c7bb9ace-e836-4e11-8615-bcc2b4b0f7bf"
      },
      "execution_count": 4,
      "outputs": [
        {
          "output_type": "stream",
          "name": "stdout",
          "text": [
            "digite quantos KM você vai percorrer: 10\n",
            "quantos litros seu carro consome por Km: 10\n",
            "qual o preço da gasolina: 10\n",
            "aqui esta o total  0.1\n"
          ]
        }
      ]
    },
    {
      "cell_type": "markdown",
      "source": [
        "##Calcular a  média das notas 8"
      ],
      "metadata": {
        "id": "lZTeYQWIWZDd"
      }
    },
    {
      "cell_type": "code",
      "execution_count": null,
      "metadata": {
        "id": "r15SLrXJXKrJ",
        "colab": {
          "base_uri": "https://localhost:8080/"
        },
        "outputId": "128ff23e-05e8-4df0-8f59-63bd60d063aa"
      },
      "outputs": [
        {
          "output_type": "stream",
          "name": "stdout",
          "text": [
            "digite a nota da primeira prova: 10\n",
            "digite a nota da segunda prova: 6\n",
            "A média das provas é:  8.0\n"
          ]
        }
      ],
      "source": [
        "#entrada\n",
        "\n",
        "P1 = float(input(\"digite a nota da primeira prova: \"))\n",
        "P2 = float (input(\"digite a nota da segunda prova: \"))\n",
        "\n",
        "#processamento\n",
        "\n",
        "M = (P1+P2)/2\n",
        "\n",
        "#saída\n",
        "\n",
        "print(\"A média das provas é: \" , M)"
      ]
    },
    {
      "cell_type": "markdown",
      "source": [
        "##Velocidade média 9\n"
      ],
      "metadata": {
        "id": "SuFEZslUVpsH"
      }
    },
    {
      "cell_type": "code",
      "source": [
        "4#entrada\n",
        "\n",
        "d = float(input(\"insira a distância em KM do percurso percorrido: \"))\n",
        "hg = float(input(\"insira as horas gastas para terminar o percurso: \"))\n",
        "mg = float(input(\"agora insira os minutos gastos para terminar o percurso: \"))\n",
        "\n",
        "#processamento\n",
        "\n",
        "ms = mg/60\n",
        "tt = hg+ms\n",
        "vm = d/tt\n",
        "\n",
        "#saída\n",
        "print(\"a velocidade média do carro é: \" , vm)"
      ],
      "metadata": {
        "id": "Ek3Tou22Vtnh",
        "colab": {
          "base_uri": "https://localhost:8080/"
        },
        "outputId": "a83f92ee-69df-4f8c-d34b-8bee9cea8455"
      },
      "execution_count": 8,
      "outputs": [
        {
          "output_type": "stream",
          "name": "stdout",
          "text": [
            "insira a distância em KM do percurso percorrido: 3\n",
            "insira as horas gastas para terminar o percurso: 20\n",
            "agora insira os minutos gastos para terminar o percurso: 4\n",
            "a velocidade média do carro é:  0.14950166112956811\n"
          ]
        }
      ]
    }
  ]
}